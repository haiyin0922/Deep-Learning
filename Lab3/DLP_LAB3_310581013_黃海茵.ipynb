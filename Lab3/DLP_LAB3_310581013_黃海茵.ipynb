{
 "cells": [
  {
   "cell_type": "code",
   "execution_count": 1,
   "id": "4015f4c7",
   "metadata": {},
   "outputs": [
    {
     "name": "stdout",
     "output_type": "stream",
     "text": [
      "PyTorch Version:  1.8.0\n",
      "Torchvision Version:  0.9.0\n",
      "cuda\n"
     ]
    }
   ],
   "source": [
    "import pandas as pd\n",
    "import numpy as np\n",
    "import torch\n",
    "import torch.nn as nn\n",
    "import torch.optim as optim\n",
    "import torchvision\n",
    "from torchvision import datasets, models, transforms\n",
    "from torch.utils.data import Dataset, DataLoader\n",
    "import matplotlib.pyplot as plt\n",
    "import time\n",
    "import os\n",
    "import copy\n",
    "from PIL import Image\n",
    "from sklearn.metrics import confusion_matrix\n",
    "from sklearn.utils.multiclass import unique_labels\n",
    "\n",
    "print(\"PyTorch Version: \",torch.__version__)\n",
    "print(\"Torchvision Version: \",torchvision.__version__)\n",
    "device = torch.device('cuda' if torch.cuda.is_available() else 'cpu')\n",
    "print(device)"
   ]
  },
  {
   "cell_type": "code",
   "execution_count": 2,
   "id": "56a399d7",
   "metadata": {},
   "outputs": [],
   "source": [
    "def getData(mode):\n",
    "    if mode == 'train':\n",
    "        img = pd.read_csv('train_img.csv')\n",
    "        label = pd.read_csv('train_label.csv')\n",
    "        return np.squeeze(img.values), np.squeeze(label.values)\n",
    "    else:\n",
    "        img = pd.read_csv('test_img.csv')\n",
    "        label = pd.read_csv('test_label.csv')\n",
    "        return np.squeeze(img.values), np.squeeze(label.values)"
   ]
  },
  {
   "cell_type": "code",
   "execution_count": 3,
   "id": "9d6acb42",
   "metadata": {},
   "outputs": [],
   "source": [
    "class RetinopathyLoader(Dataset):\n",
    "    def __init__(self, root, mode):\n",
    "        \"\"\"\n",
    "        Args:\n",
    "            root (string): Root path of the dataset.\n",
    "            mode : Indicate procedure status(training or testing)\n",
    "\n",
    "            self.img_name (string list): String list that store all image names.\n",
    "            self.label (int or float list): Numerical list that store all ground truth label values.\n",
    "        \"\"\"\n",
    "        self.root = root\n",
    "        self.img_name, self.label = getData(mode)\n",
    "        self.mode = mode\n",
    "        \n",
    "        if mode == 'train':\n",
    "            self.transforms = transforms.Compose([transforms.RandomHorizontalFlip(),transforms.RandomVerticalFlip(),transforms.ToTensor(),\n",
    "                                                  transforms.Normalize([0.5769, 0.3852, 0.2649],[0.1061, 0.0809, 0.0555])])\n",
    "        else:\n",
    "            self.transforms = transforms.Compose([transforms.ToTensor(),\n",
    "                                                  transforms.Normalize([0.5769, 0.3852, 0.2649],[0.1061, 0.0809, 0.0555])])\n",
    "        \n",
    "        print(\"> Found %d images...\" % (len(self.img_name)))\n",
    "\n",
    "    def __len__(self):\n",
    "        \"\"\"'return the size of dataset\"\"\"\n",
    "        return len(self.img_name)\n",
    "\n",
    "    def __getitem__(self, index):\n",
    "        \"\"\"something you should implement here\"\"\"\n",
    "\n",
    "        \"\"\"\n",
    "           step1. Get the image path from 'self.img_name' and load it.\n",
    "                  hint : path = root + self.img_name[index] + '.jpeg'\n",
    "           \n",
    "           step2. Get the ground truth label from self.label\n",
    "                     \n",
    "           step3. Transform the .jpeg rgb images during the training phase, such as resizing, random flipping, \n",
    "                  rotation, cropping, normalization etc. But at the beginning, I suggest you follow the hints. \n",
    "                       \n",
    "                  In the testing phase, if you have a normalization process during the training phase, you only need \n",
    "                  to normalize the data. \n",
    "                  \n",
    "                  hints : Convert the pixel value to [0, 1]\n",
    "                          Transpose the image shape from [H, W, C] to [C, H, W]\n",
    "                         \n",
    "            step4. Return processed image and label\n",
    "        \"\"\"\n",
    "        path = os.path.join(self.root, self.img_name[index]+'.jpeg') #step1\n",
    "        img = Image.open(path) #step1\n",
    "        label = self.label[index] #step2\n",
    "        img = self.transforms(img) #step3\n",
    "\n",
    "        return img, label #step4"
   ]
  },
  {
   "cell_type": "markdown",
   "id": "7f71deca",
   "metadata": {},
   "source": [
    "# ResNet Model"
   ]
  },
  {
   "cell_type": "code",
   "execution_count": 4,
   "id": "8a3f6361",
   "metadata": {},
   "outputs": [],
   "source": [
    "class ResNet(nn.Module):\n",
    "    def __init__(self, num_classes=5, option='resnet18', pretrained=True):\n",
    "        super(ResNet, self).__init__()\n",
    "        if option == 'resnet18':\n",
    "            self.model = models.resnet18(pretrained=pretrained)\n",
    "        elif option == 'resnet50':\n",
    "            self.model = models.resnet50(pretrained=pretrained)\n",
    "        \n",
    "        if pretrained:\n",
    "            for param in self.model.parameters():\n",
    "                param.requires_grad = False\n",
    "                \n",
    "        num_neurons = self.model.fc.in_features\n",
    "        self.model.fc = nn.Linear(num_neurons, num_classes)\n",
    "        \n",
    "    def forward(self, x):\n",
    "        out = self.model(x)\n",
    "        \n",
    "        return out"
   ]
  },
  {
   "cell_type": "markdown",
   "id": "c8ec41f9",
   "metadata": {},
   "source": [
    "# Train and Test"
   ]
  },
  {
   "cell_type": "code",
   "execution_count": 5,
   "id": "dfca36ef",
   "metadata": {},
   "outputs": [],
   "source": [
    "def train_test(model, dataloaders, criterion, optimizer, num_epochs):\n",
    "    since = time.time()\n",
    "    \n",
    "    acc_train = []\n",
    "    acc_test = []\n",
    "    \n",
    "    best_wts = copy.deepcopy(model.state_dict())\n",
    "    best_acc = 0.0\n",
    "    \n",
    "    model.to(device)\n",
    "    for epoch in range(1, num_epochs+1):\n",
    "        print('Epoch {}/{}'.format(epoch, num_epochs))\n",
    "        print('-' * 10)\n",
    "\n",
    "        # Each epoch has a training and validation phase\n",
    "        for phase in ['train', 'test']:\n",
    "            if phase == 'train':\n",
    "                model.train()  # Set model to training mode\n",
    "            else:\n",
    "                model.eval()   # Set model to evaluate mode\n",
    "\n",
    "            running_loss = 0.0\n",
    "            running_corrects = 0\n",
    "\n",
    "            # Iterate over data.\n",
    "            for data, label in dataloaders[phase]:\n",
    "                data = data.to(device)\n",
    "                label = label.to(device)\n",
    "\n",
    "                # zero the parameter gradients\n",
    "                optimizer.zero_grad()\n",
    "\n",
    "                # forward\n",
    "                # track history if only in train\n",
    "                with torch.set_grad_enabled(phase == 'train'):\n",
    "                    # Get model outputs and calculate loss\n",
    "                    # Special case for inception because in training it has an auxiliary output. In train\n",
    "                    # mode we calculate the loss by summing the final output and the auxiliary output\n",
    "                    # but in testing we only consider the final output.\n",
    "                    pred = model(data)\n",
    "                    loss = criterion(pred, label)\n",
    "                    \n",
    "                    _, preds = torch.max(pred, 1)\n",
    "                    \n",
    "                    # backward + optimize only if in training phase\n",
    "                    if phase == 'train':\n",
    "                        loss.backward()\n",
    "                        optimizer.step()\n",
    "\n",
    "                # statistics\n",
    "                running_loss += loss.item() * data.size(0)\n",
    "                running_corrects += torch.sum(preds == label.data)\n",
    "\n",
    "            epoch_loss = running_loss / len(dataloaders[phase].dataset)\n",
    "            epoch_acc = running_corrects.double() / len(dataloaders[phase].dataset)\n",
    "\n",
    "            print('{} Loss: {:.4f} Acc: {:.4f}'.format(phase, epoch_loss, epoch_acc))\n",
    "\n",
    "            # deep copy the model\n",
    "            if phase == 'test' and epoch_acc > best_acc:\n",
    "                best_acc = epoch_acc\n",
    "                best_wts = copy.deepcopy(model.state_dict())\n",
    "                \n",
    "            if phase == 'test':\n",
    "                acc_test.append(epoch_acc)\n",
    "            else:\n",
    "                acc_train.append(epoch_acc)\n",
    "\n",
    "        print()\n",
    "\n",
    "    time_elapsed = time.time() - since\n",
    "    print('Training complete in {:.0f}m {:.0f}s'.format(time_elapsed // 60, time_elapsed % 60))\n",
    "    print('Best test Acc: {:.2f} %'.format(best_acc * 100))\n",
    "    \n",
    "    return torch.Tensor(acc_train).numpy(), torch.Tensor(acc_test).numpy(), best_wts"
   ]
  },
  {
   "cell_type": "markdown",
   "id": "d9aa566a",
   "metadata": {},
   "source": [
    "# Plot"
   ]
  },
  {
   "cell_type": "code",
   "execution_count": 6,
   "id": "1f9e3d69",
   "metadata": {},
   "outputs": [],
   "source": [
    "def plot(dataframe):\n",
    "    fig = plt.figure(figsize=(10,6))\n",
    "    for name in dataframe.columns[1:]:\n",
    "        plt.plot('epoch', name, data=dataframe)\n",
    "    plt.title('Result Comparision')\n",
    "    plt.xlabel('Epochs')\n",
    "    plt.ylabel('Accuracy(%)')\n",
    "    plt.legend()\n",
    "    \n",
    "    return fig"
   ]
  },
  {
   "cell_type": "code",
   "execution_count": 7,
   "id": "66aaaaf4",
   "metadata": {},
   "outputs": [],
   "source": [
    "def plot_confusion_matrix(y_true, y_pred, classes, normalize=True, title='Normalized confusion matrix', cmap=plt.cm.Blues):\n",
    "    \"\"\"\n",
    "    This function prints and plots the confusion matrix.\n",
    "    Normalization can be applied by setting `normalize=True`.\n",
    "    \"\"\"\n",
    "    # Compute confusion matrix\n",
    "    cm = confusion_matrix(y_true, y_pred)\n",
    "    # Only use the labels that appear in the data\n",
    "    classes = classes[unique_labels(y_true, y_pred)]\n",
    "    \n",
    "    cm = cm.astype('float') / cm.sum(axis=1)[:, np.newaxis]\n",
    "    #print(cm)\n",
    "\n",
    "    fig, ax = plt.subplots()\n",
    "    im = ax.imshow(cm, interpolation='nearest', cmap=cmap)\n",
    "    ax.figure.colorbar(im, ax=ax)\n",
    "    # We want to show all ticks...\n",
    "    ax.set(xticks=np.arange(cm.shape[1]),\n",
    "           yticks=np.arange(cm.shape[0]),\n",
    "           # ... and label them with the respective list entries\n",
    "           xticklabels=classes, yticklabels=classes,\n",
    "           title=title,\n",
    "           ylabel='True label',\n",
    "           xlabel='Predicted label')\n",
    "\n",
    "    # Rotate the tick labels and set their alignment.\n",
    "    plt.setp(ax.get_xticklabels(), rotation=45, ha=\"right\",\n",
    "             rotation_mode=\"anchor\")\n",
    "\n",
    "    # Loop over data dimensions and create text annotations.\n",
    "    fmt = '.2f' if normalize else 'd'\n",
    "    thresh = cm.max() / 2.\n",
    "    for i in range(cm.shape[0]):\n",
    "        for j in range(cm.shape[1]):\n",
    "            ax.text(j, i, format(cm[i, j], fmt),\n",
    "                    ha=\"center\", va=\"center\",\n",
    "                    color=\"white\" if cm[i, j] > thresh else \"black\")\n",
    "    fig.tight_layout()\n",
    "    \n",
    "    return ax"
   ]
  },
  {
   "cell_type": "markdown",
   "id": "148d6187",
   "metadata": {},
   "source": [
    "# Evaluate"
   ]
  },
  {
   "cell_type": "code",
   "execution_count": 8,
   "id": "a0f85ba1",
   "metadata": {},
   "outputs": [],
   "source": [
    "def evaluate(model, loader):\n",
    "    model.eval()\n",
    "    acc = 0\n",
    "    preds = torch.tensor([]).cuda()\n",
    "    for data, label in loader:\n",
    "        data = data.to(device)\n",
    "        label = label.to(device)\n",
    "        pred = model(data)\n",
    "        preds = torch.cat((preds, torch.flatten(pred.max(dim=1)[1])), dim=0)\n",
    "        acc += pred.max(dim=1)[1].eq(label).sum().item()\n",
    "    \n",
    "    acc = 100.*acc / len(loader.dataset)\n",
    "    \n",
    "    return acc, preds"
   ]
  },
  {
   "cell_type": "markdown",
   "id": "5aab83da",
   "metadata": {},
   "source": [
    "# Show accuracy"
   ]
  },
  {
   "cell_type": "code",
   "execution_count": 9,
   "id": "297c74f8",
   "metadata": {},
   "outputs": [],
   "source": [
    "def show_acc(option, file_name, pretrained):\n",
    "    model = ResNet(num_classes=5, option=option, pretrained=pretrained)\n",
    "    model.load_state_dict(torch.load(file_name))\n",
    "    model.to(device)\n",
    "\n",
    "    acc, preds = evaluate(model, loader['test'])\n",
    "    print(f'accuracy: {acc:.2f}%')\n",
    "    \n",
    "    return preds.data.cpu().numpy()"
   ]
  },
  {
   "cell_type": "markdown",
   "id": "9629e8e3",
   "metadata": {},
   "source": [
    "# Hyperparameter"
   ]
  },
  {
   "cell_type": "code",
   "execution_count": 10,
   "id": "ab626430",
   "metadata": {},
   "outputs": [],
   "source": [
    "batch_size = 8\n",
    "lr = 1e-3\n",
    "num_epochs_18 = 15\n",
    "num_epochs_50 = 10\n",
    "momentum = 0.9\n",
    "weight_decay = 5e-4\n",
    "criterion = nn.CrossEntropyLoss()"
   ]
  },
  {
   "cell_type": "markdown",
   "id": "c9424d50",
   "metadata": {},
   "source": [
    "# DataLoader"
   ]
  },
  {
   "cell_type": "code",
   "execution_count": 11,
   "id": "cd8c4030",
   "metadata": {},
   "outputs": [
    {
     "name": "stdout",
     "output_type": "stream",
     "text": [
      "> Found 28099 images...\n",
      "> Found 7025 images...\n"
     ]
    }
   ],
   "source": [
    "loader = {}\n",
    "\n",
    "data_train = RetinopathyLoader(root='data', mode='train')\n",
    "loader['train'] = DataLoader(dataset=data_train, batch_size=batch_size, shuffle=True)\n",
    "\n",
    "data_test = RetinopathyLoader(root='data', mode='test')\n",
    "loader['test'] = DataLoader(dataset=data_test, batch_size=batch_size, shuffle=False)"
   ]
  },
  {
   "cell_type": "markdown",
   "id": "26191c54",
   "metadata": {},
   "source": [
    "# ResNet18"
   ]
  },
  {
   "cell_type": "markdown",
   "id": "8ac245d9",
   "metadata": {},
   "source": [
    "## with pretrained"
   ]
  },
  {
   "cell_type": "code",
   "execution_count": 12,
   "id": "ee60f0c1",
   "metadata": {},
   "outputs": [
    {
     "name": "stdout",
     "output_type": "stream",
     "text": [
      "Epoch 1/5\n",
      "----------\n",
      "train Loss: 0.8504 Acc: 0.7290\n",
      "test Loss: 0.7818 Acc: 0.7485\n",
      "\n",
      "Epoch 2/5\n",
      "----------\n",
      "train Loss: 0.8216 Acc: 0.7321\n",
      "test Loss: 0.8968 Acc: 0.7402\n",
      "\n",
      "Epoch 3/5\n",
      "----------\n",
      "train Loss: 0.8118 Acc: 0.7329\n",
      "test Loss: 0.8095 Acc: 0.7426\n",
      "\n",
      "Epoch 4/5\n",
      "----------\n",
      "train Loss: 0.8091 Acc: 0.7352\n",
      "test Loss: 0.9099 Acc: 0.7431\n",
      "\n",
      "Epoch 5/5\n",
      "----------\n",
      "train Loss: 0.8080 Acc: 0.7329\n",
      "test Loss: 0.7577 Acc: 0.7478\n",
      "\n",
      "Training complete in 32m 9s\n",
      "Best test Acc: 74.85 %\n"
     ]
    }
   ],
   "source": [
    "ResNet18_w = ResNet(num_classes=5, option='resnet18', pretrained=True)\n",
    "# feature extraction\n",
    "params_to_update = []\n",
    "for name, param in ResNet18_w.named_parameters():\n",
    "    if param.requires_grad == True:\n",
    "        params_to_update.append(param)\n",
    "optimizer = optim.SGD(params_to_update, lr=lr, momentum=momentum, weight_decay=weight_decay)\n",
    "_, _, _ = train_test(model=ResNet18_w, dataloaders=loader, criterion=criterion, optimizer=optimizer, num_epochs=5)"
   ]
  },
  {
   "cell_type": "code",
   "execution_count": 13,
   "id": "655364f5",
   "metadata": {},
   "outputs": [
    {
     "name": "stdout",
     "output_type": "stream",
     "text": [
      "Epoch 1/15\n",
      "----------\n",
      "train Loss: 0.7464 Acc: 0.7560\n",
      "test Loss: 0.6849 Acc: 0.7853\n",
      "\n",
      "Epoch 2/15\n",
      "----------\n",
      "train Loss: 0.6485 Acc: 0.7862\n",
      "test Loss: 0.6127 Acc: 0.7986\n",
      "\n",
      "Epoch 3/15\n",
      "----------\n",
      "train Loss: 0.6102 Acc: 0.8002\n",
      "test Loss: 0.5958 Acc: 0.8019\n",
      "\n",
      "Epoch 4/15\n",
      "----------\n",
      "train Loss: 0.5845 Acc: 0.8085\n",
      "test Loss: 0.5712 Acc: 0.8155\n",
      "\n",
      "Epoch 5/15\n",
      "----------\n",
      "train Loss: 0.5665 Acc: 0.8121\n",
      "test Loss: 0.5756 Acc: 0.8093\n",
      "\n",
      "Epoch 6/15\n",
      "----------\n",
      "train Loss: 0.5495 Acc: 0.8177\n",
      "test Loss: 0.5923 Acc: 0.8056\n",
      "\n",
      "Epoch 7/15\n",
      "----------\n",
      "train Loss: 0.5393 Acc: 0.8223\n",
      "test Loss: 0.5557 Acc: 0.8192\n",
      "\n",
      "Epoch 8/15\n",
      "----------\n",
      "train Loss: 0.5268 Acc: 0.8243\n",
      "test Loss: 0.6189 Acc: 0.7999\n",
      "\n",
      "Epoch 9/15\n",
      "----------\n",
      "train Loss: 0.5187 Acc: 0.8290\n",
      "test Loss: 0.5656 Acc: 0.8175\n",
      "\n",
      "Epoch 10/15\n",
      "----------\n",
      "train Loss: 0.5046 Acc: 0.8301\n",
      "test Loss: 0.5760 Acc: 0.8151\n",
      "\n",
      "Epoch 11/15\n",
      "----------\n",
      "train Loss: 0.5012 Acc: 0.8324\n",
      "test Loss: 0.5683 Acc: 0.8195\n",
      "\n",
      "Epoch 12/15\n",
      "----------\n",
      "train Loss: 0.4851 Acc: 0.8368\n",
      "test Loss: 0.5564 Acc: 0.8196\n",
      "\n",
      "Epoch 13/15\n",
      "----------\n",
      "train Loss: 0.4800 Acc: 0.8378\n",
      "test Loss: 0.5766 Acc: 0.8151\n",
      "\n",
      "Epoch 14/15\n",
      "----------\n",
      "train Loss: 0.4664 Acc: 0.8433\n",
      "test Loss: 0.5853 Acc: 0.8142\n",
      "\n",
      "Epoch 15/15\n",
      "----------\n",
      "train Loss: 0.4585 Acc: 0.8452\n",
      "test Loss: 0.5794 Acc: 0.8105\n",
      "\n",
      "Training complete in 186m 58s\n",
      "Best test Acc: 81.96 %\n"
     ]
    }
   ],
   "source": [
    "# fine-tune\n",
    "for param in ResNet18_w.parameters():\n",
    "    param.requires_grad = True\n",
    "optimizer = optim.SGD(ResNet18_w.parameters(), lr=lr, momentum=momentum, weight_decay=weight_decay)\n",
    "acc_train, acc_test, best_wts = train_test(model=ResNet18_w, dataloaders=loader, criterion=criterion, optimizer=optimizer, num_epochs=num_epochs_18)"
   ]
  },
  {
   "cell_type": "code",
   "execution_count": 14,
   "id": "f61cd58b",
   "metadata": {},
   "outputs": [],
   "source": [
    "torch.save(best_wts, 'ResNet18_w_pretrained.pt')\n",
    "\n",
    "df18 = pd.DataFrame()\n",
    "df18['epoch'] = range(1, num_epochs_18+1)\n",
    "df18['Train(with pretraining)'] = acc_train\n",
    "df18['Test(with pretraining)'] = acc_test"
   ]
  },
  {
   "cell_type": "markdown",
   "id": "d789e8fe",
   "metadata": {},
   "source": [
    "## Show the highest accuarcy"
   ]
  },
  {
   "cell_type": "code",
   "execution_count": 12,
   "id": "47793d50",
   "metadata": {},
   "outputs": [
    {
     "name": "stdout",
     "output_type": "stream",
     "text": [
      "accuracy: 81.96%\n"
     ]
    }
   ],
   "source": [
    "with torch.no_grad():\n",
    "    preds = show_acc(option='resnet18', file_name='ResNet18_w_pretrained.pt', pretrained=True)"
   ]
  },
  {
   "cell_type": "markdown",
   "id": "365b368f",
   "metadata": {},
   "source": [
    "## Plot confusion matrix"
   ]
  },
  {
   "cell_type": "code",
   "execution_count": 13,
   "id": "71c91070",
   "metadata": {
    "scrolled": true
   },
   "outputs": [
    {
     "data": {
      "text/plain": [
       "<AxesSubplot:title={'center':'Normalized confusion matrix'}, xlabel='Predicted label', ylabel='True label'>"
      ]
     },
     "execution_count": 13,
     "metadata": {},
     "output_type": "execute_result"
    },
    {
     "data": {
      "image/png": "[encoded data removed]",
      "text/plain": [
       "<Figure size 432x288 with 2 Axes>"
      ]
     },
     "metadata": {
      "needs_background": "light"
     },
     "output_type": "display_data"
    }
   ],
   "source": [
    "classes = np.array(['0', '1', '2', '3', '4'])\n",
    "\n",
    "plot_confusion_matrix(y_true=data_test.label, y_pred=preds, classes=classes)"
   ]
  },
  {
   "cell_type": "markdown",
   "id": "774d1888",
   "metadata": {},
   "source": [
    "## without pretrained"
   ]
  },
  {
   "cell_type": "code",
   "execution_count": 17,
   "id": "f5b9037e",
   "metadata": {},
   "outputs": [
    {
     "name": "stdout",
     "output_type": "stream",
     "text": [
      "Epoch 1/15\n",
      "----------\n",
      "train Loss: 0.8914 Acc: 0.7330\n",
      "test Loss: 0.8747 Acc: 0.7304\n",
      "\n",
      "Epoch 2/15\n",
      "----------\n",
      "train Loss: 0.8714 Acc: 0.7349\n",
      "test Loss: 0.8619 Acc: 0.7334\n",
      "\n",
      "Epoch 3/15\n",
      "----------\n",
      "train Loss: 0.8640 Acc: 0.7350\n",
      "test Loss: 0.8517 Acc: 0.7334\n",
      "\n",
      "Epoch 4/15\n",
      "----------\n",
      "train Loss: 0.8598 Acc: 0.7350\n",
      "test Loss: 0.8464 Acc: 0.7321\n",
      "\n",
      "Epoch 5/15\n",
      "----------\n",
      "train Loss: 0.8591 Acc: 0.7351\n",
      "test Loss: 0.8492 Acc: 0.7330\n",
      "\n",
      "Epoch 6/15\n",
      "----------\n",
      "train Loss: 0.8573 Acc: 0.7351\n",
      "test Loss: 0.8553 Acc: 0.7320\n",
      "\n",
      "Epoch 7/15\n",
      "----------\n",
      "train Loss: 0.8552 Acc: 0.7350\n",
      "test Loss: 0.8448 Acc: 0.7320\n",
      "\n",
      "Epoch 8/15\n",
      "----------\n",
      "train Loss: 0.8530 Acc: 0.7351\n",
      "test Loss: 0.8559 Acc: 0.7327\n",
      "\n",
      "Epoch 9/15\n",
      "----------\n",
      "train Loss: 0.8515 Acc: 0.7351\n",
      "test Loss: 0.9141 Acc: 0.7023\n",
      "\n",
      "Epoch 10/15\n",
      "----------\n",
      "train Loss: 0.8520 Acc: 0.7351\n",
      "test Loss: 0.8460 Acc: 0.7320\n",
      "\n",
      "Epoch 11/15\n",
      "----------\n",
      "train Loss: 0.8499 Acc: 0.7350\n",
      "test Loss: 0.8438 Acc: 0.7318\n",
      "\n",
      "Epoch 12/15\n",
      "----------\n",
      "train Loss: 0.8499 Acc: 0.7350\n",
      "test Loss: 0.8538 Acc: 0.7294\n",
      "\n",
      "Epoch 13/15\n",
      "----------\n",
      "train Loss: 0.8470 Acc: 0.7351\n",
      "test Loss: 0.8576 Acc: 0.7273\n",
      "\n",
      "Epoch 14/15\n",
      "----------\n",
      "train Loss: 0.8470 Acc: 0.7351\n",
      "test Loss: 0.8668 Acc: 0.7308\n",
      "\n",
      "Epoch 15/15\n",
      "----------\n",
      "train Loss: 0.8453 Acc: 0.7351\n",
      "test Loss: 0.8432 Acc: 0.7315\n",
      "\n",
      "Training complete in 184m 1s\n",
      "Best test Acc: 73.34 %\n"
     ]
    }
   ],
   "source": [
    "ResNet18_wo = ResNet(num_classes=5, option='resnet18', pretrained=False)\n",
    "optimizer = optim.SGD(ResNet18_wo.parameters(), lr=lr, momentum=momentum, weight_decay=weight_decay)\n",
    "acc_train, acc_test, best_wts = train_test(model=ResNet18_wo, dataloaders=loader, criterion=criterion, optimizer=optimizer, num_epochs=num_epochs_18)"
   ]
  },
  {
   "cell_type": "code",
   "execution_count": 18,
   "id": "d5cf0e31",
   "metadata": {},
   "outputs": [],
   "source": [
    "torch.save(best_wts, 'ResNet18_wo_pretrained.pt')\n",
    "\n",
    "df18['Train(w/o pretraining)'] = acc_train\n",
    "df18['Test(w/o pretraining)'] = acc_test"
   ]
  },
  {
   "cell_type": "code",
   "execution_count": 13,
   "id": "0d07d4cb",
   "metadata": {},
   "outputs": [
    {
     "name": "stdout",
     "output_type": "stream",
     "text": [
      "accuracy: 73.34%\n"
     ]
    }
   ],
   "source": [
    "with torch.no_grad():\n",
    "    preds = show_acc(option='resnet18', file_name='ResNet18_wo_pretrained.pt', pretrained=False)"
   ]
  },
  {
   "cell_type": "code",
   "execution_count": 15,
   "id": "b7accbc9",
   "metadata": {},
   "outputs": [
    {
     "data": {
      "text/plain": [
       "<AxesSubplot:title={'center':'Normalized confusion matrix'}, xlabel='Predicted label', ylabel='True label'>"
      ]
     },
     "execution_count": 15,
     "metadata": {},
     "output_type": "execute_result"
    },
    {
     "data": {
      "image/png": "[encoded data removed]",
      "text/plain": [
       "<Figure size 432x288 with 2 Axes>"
      ]
     },
     "metadata": {
      "needs_background": "light"
     },
     "output_type": "display_data"
    }
   ],
   "source": [
    "plot_confusion_matrix(y_true=data_test.label, y_pred=preds, classes=classes)"
   ]
  },
  {
   "cell_type": "markdown",
   "id": "0874e4da",
   "metadata": {},
   "source": [
    "## Plot accuracy"
   ]
  },
  {
   "cell_type": "code",
   "execution_count": 21,
   "id": "f18be39d",
   "metadata": {},
   "outputs": [
    {
     "data": {
      "image/png": "[encoded data removed]",
      "text/plain": [
       "<Figure size 720x432 with 1 Axes>"
      ]
     },
     "metadata": {
      "needs_background": "light"
     },
     "output_type": "display_data"
    }
   ],
   "source": [
    "figure = plot(df18)"
   ]
  },
  {
   "cell_type": "markdown",
   "id": "6c867265",
   "metadata": {},
   "source": [
    "# ResNet 50"
   ]
  },
  {
   "cell_type": "markdown",
   "id": "649e38c2",
   "metadata": {},
   "source": [
    "## with pretrained"
   ]
  },
  {
   "cell_type": "code",
   "execution_count": 16,
   "id": "c8c92ac9",
   "metadata": {},
   "outputs": [
    {
     "name": "stdout",
     "output_type": "stream",
     "text": [
      "Epoch 1/5\n",
      "----------\n",
      "train Loss: 0.8563 Acc: 0.7290\n",
      "test Loss: 0.7839 Acc: 0.7425\n",
      "\n",
      "Epoch 2/5\n",
      "----------\n",
      "train Loss: 0.8333 Acc: 0.7311\n",
      "test Loss: 0.7836 Acc: 0.7429\n",
      "\n",
      "Epoch 3/5\n",
      "----------\n",
      "train Loss: 0.8229 Acc: 0.7332\n",
      "test Loss: 0.7901 Acc: 0.7425\n",
      "\n",
      "Epoch 4/5\n",
      "----------\n",
      "train Loss: 0.8166 Acc: 0.7316\n",
      "test Loss: 0.7756 Acc: 0.7293\n",
      "\n",
      "Epoch 5/5\n",
      "----------\n",
      "train Loss: 0.8080 Acc: 0.7361\n",
      "test Loss: 0.7660 Acc: 0.7472\n",
      "\n",
      "Training complete in 62m 9s\n",
      "Best test Acc: 74.72 %\n"
     ]
    }
   ],
   "source": [
    "ResNet50_w = ResNet(num_classes=5, option='resnet50', pretrained=True)\n",
    "# feature extraction\n",
    "params_to_update = []\n",
    "for name, param in ResNet50_w.named_parameters():\n",
    "    if param.requires_grad == True:\n",
    "        params_to_update.append(param)\n",
    "optimizer = optim.SGD(params_to_update, lr=lr, momentum=momentum, weight_decay=weight_decay)\n",
    "_, _, _ = train_test(model=ResNet50_w, dataloaders=loader, criterion=criterion, optimizer=optimizer, num_epochs=5)"
   ]
  },
  {
   "cell_type": "code",
   "execution_count": 17,
   "id": "50771cd9",
   "metadata": {},
   "outputs": [
    {
     "name": "stdout",
     "output_type": "stream",
     "text": [
      "Epoch 1/10\n",
      "----------\n",
      "train Loss: 0.7134 Acc: 0.7653\n",
      "test Loss: 0.6226 Acc: 0.7889\n",
      "\n",
      "Epoch 2/10\n",
      "----------\n",
      "train Loss: 0.6177 Acc: 0.7978\n",
      "test Loss: 0.6359 Acc: 0.8028\n",
      "\n",
      "Epoch 3/10\n",
      "----------\n",
      "train Loss: 0.5816 Acc: 0.8087\n",
      "test Loss: 0.5800 Acc: 0.8094\n",
      "\n",
      "Epoch 4/10\n",
      "----------\n",
      "train Loss: 0.5588 Acc: 0.8172\n",
      "test Loss: 0.5666 Acc: 0.8132\n",
      "\n",
      "Epoch 5/10\n",
      "----------\n",
      "train Loss: 0.5436 Acc: 0.8206\n",
      "test Loss: 0.5695 Acc: 0.8140\n",
      "\n",
      "Epoch 6/10\n",
      "----------\n",
      "train Loss: 0.5274 Acc: 0.8259\n",
      "test Loss: 0.5760 Acc: 0.8175\n",
      "\n",
      "Epoch 7/10\n",
      "----------\n",
      "train Loss: 0.5134 Acc: 0.8289\n",
      "test Loss: 0.5517 Acc: 0.8225\n",
      "\n",
      "Epoch 8/10\n",
      "----------\n",
      "train Loss: 0.5056 Acc: 0.8308\n",
      "test Loss: 0.5429 Acc: 0.8201\n",
      "\n",
      "Epoch 9/10\n",
      "----------\n",
      "train Loss: 0.4970 Acc: 0.8343\n",
      "test Loss: 0.5509 Acc: 0.8204\n",
      "\n",
      "Epoch 10/10\n",
      "----------\n",
      "train Loss: 0.4820 Acc: 0.8373\n",
      "test Loss: 0.5625 Acc: 0.8172\n",
      "\n",
      "Training complete in 572m 46s\n",
      "Best test Acc: 82.25 %\n"
     ]
    }
   ],
   "source": [
    "# fine-tune\n",
    "for param in ResNet50_w.parameters():\n",
    "    param.requires_grad = True\n",
    "optimizer = optim.SGD(ResNet50_w.parameters(), lr=lr, momentum=momentum, weight_decay=weight_decay)\n",
    "acc_train, acc_test, best_wts = train_test(model=ResNet50_w, dataloaders=loader, criterion=criterion, optimizer=optimizer, num_epochs=num_epochs_50)"
   ]
  },
  {
   "cell_type": "code",
   "execution_count": 18,
   "id": "f9aecdeb",
   "metadata": {},
   "outputs": [],
   "source": [
    "torch.save(best_wts, 'ResNet50_w_pretrained.pt')\n",
    "\n",
    "df50 = pd.DataFrame()\n",
    "df50['epoch'] = range(1, num_epochs_50+1)\n",
    "df50['Train(with pretraining)'] = acc_train\n",
    "df50['Test(with pretraining)'] = acc_test"
   ]
  },
  {
   "cell_type": "code",
   "execution_count": 14,
   "id": "bd60af22",
   "metadata": {},
   "outputs": [
    {
     "name": "stdout",
     "output_type": "stream",
     "text": [
      "accuracy: 82.25%\n"
     ]
    }
   ],
   "source": [
    "with torch.no_grad():\n",
    "    preds = show_acc(option='resnet50', file_name='ResNet50_w_pretrained.pt', pretrained=True)"
   ]
  },
  {
   "cell_type": "code",
   "execution_count": 20,
   "id": "e4bb8031",
   "metadata": {},
   "outputs": [
    {
     "data": {
      "text/plain": [
       "<AxesSubplot:title={'center':'Normalized confusion matrix'}, xlabel='Predicted label', ylabel='True label'>"
      ]
     },
     "execution_count": 20,
     "metadata": {},
     "output_type": "execute_result"
    },
    {
     "data": {
      "image/png": "[encoded data removed]",
      "text/plain": [
       "<Figure size 432x288 with 2 Axes>"
      ]
     },
     "metadata": {
      "needs_background": "light"
     },
     "output_type": "display_data"
    }
   ],
   "source": [
    "plot_confusion_matrix(y_true=data_test.label, y_pred=preds, classes=classes)"
   ]
  },
  {
   "cell_type": "markdown",
   "id": "e0d6c692",
   "metadata": {},
   "source": [
    "## without pretrained"
   ]
  },
  {
   "cell_type": "code",
   "execution_count": 12,
   "id": "49128d73",
   "metadata": {},
   "outputs": [
    {
     "name": "stdout",
     "output_type": "stream",
     "text": [
      "Epoch 1/10\n",
      "----------\n",
      "train Loss: 0.9391 Acc: 0.7254\n",
      "test Loss: 1.0178 Acc: 0.7247\n",
      "\n",
      "Epoch 2/10\n",
      "----------\n",
      "train Loss: 0.8937 Acc: 0.7319\n",
      "test Loss: 2.0068 Acc: 0.7132\n",
      "\n",
      "Epoch 3/10\n",
      "----------\n",
      "train Loss: 0.8835 Acc: 0.7332\n",
      "test Loss: 2.4562 Acc: 0.7200\n",
      "\n",
      "Epoch 4/10\n",
      "----------\n",
      "train Loss: 0.8729 Acc: 0.7345\n",
      "test Loss: 1.1605 Acc: 0.7193\n",
      "\n",
      "Epoch 5/10\n",
      "----------\n",
      "train Loss: 0.8690 Acc: 0.7347\n",
      "test Loss: 1.0006 Acc: 0.7318\n",
      "\n",
      "Epoch 6/10\n",
      "----------\n",
      "train Loss: 0.8688 Acc: 0.7348\n",
      "test Loss: 0.9979 Acc: 0.7335\n",
      "\n",
      "Epoch 7/10\n",
      "----------\n",
      "train Loss: 0.8655 Acc: 0.7350\n",
      "test Loss: 11.4542 Acc: 0.6877\n",
      "\n",
      "Epoch 8/10\n",
      "----------\n",
      "train Loss: 0.8622 Acc: 0.7348\n",
      "test Loss: 12.9362 Acc: 0.6488\n",
      "\n",
      "Epoch 9/10\n",
      "----------\n",
      "train Loss: 0.8597 Acc: 0.7351\n",
      "test Loss: 1.8532 Acc: 0.7177\n",
      "\n",
      "Epoch 10/10\n",
      "----------\n",
      "train Loss: 0.8579 Acc: 0.7350\n",
      "test Loss: 0.8825 Acc: 0.7334\n",
      "\n",
      "Training complete in 303m 29s\n",
      "Best test Acc: 73.35 %\n"
     ]
    }
   ],
   "source": [
    "ResNet50_wo = ResNet(num_classes=5, option='resnet50', pretrained=False)\n",
    "optimizer = optim.SGD(ResNet50_wo.parameters(), lr=lr, momentum=momentum, weight_decay=weight_decay)\n",
    "acc_train, acc_test, best_wts = train_test(model=ResNet50_wo, dataloaders=loader, criterion=criterion, optimizer=optimizer, num_epochs=num_epochs_50)"
   ]
  },
  {
   "cell_type": "code",
   "execution_count": 15,
   "id": "cb266af6",
   "metadata": {},
   "outputs": [],
   "source": [
    "torch.save(best_wts, 'ResNet50_wo_pretrained.pt')\n",
    "\n",
    "df50['Train(w/o pretraining)'] = acc_train\n",
    "df50['Test(w/o pretraining)'] = acc_test"
   ]
  },
  {
   "cell_type": "code",
   "execution_count": 12,
   "id": "42e5f52c",
   "metadata": {},
   "outputs": [
    {
     "name": "stdout",
     "output_type": "stream",
     "text": [
      "accuracy: 73.35%\n"
     ]
    }
   ],
   "source": [
    "with torch.no_grad():\n",
    "    preds = show_acc(option='resnet50', file_name='ResNet50_wo_pretrained.pt', pretrained=False)"
   ]
  },
  {
   "cell_type": "code",
   "execution_count": 14,
   "id": "025fa59f",
   "metadata": {},
   "outputs": [
    {
     "data": {
      "text/plain": [
       "<AxesSubplot:title={'center':'Normalized confusion matrix'}, xlabel='Predicted label', ylabel='True label'>"
      ]
     },
     "execution_count": 14,
     "metadata": {},
     "output_type": "execute_result"
    },
    {
     "data": {
      "image/png": "[encoded data removed]",
      "text/plain": [
       "<Figure size 432x288 with 2 Axes>"
      ]
     },
     "metadata": {
      "needs_background": "light"
     },
     "output_type": "display_data"
    }
   ],
   "source": [
    "plot_confusion_matrix(y_true=data_test.label, y_pred=preds, classes=classes)"
   ]
  },
  {
   "cell_type": "code",
   "execution_count": 17,
   "id": "2656076c",
   "metadata": {},
   "outputs": [
    {
     "data": {
      "image/png": "[encoded data removed]",
      "text/plain": [
       "<Figure size 720x432 with 1 Axes>"
      ]
     },
     "metadata": {
      "needs_background": "light"
     },
     "output_type": "display_data"
    }
   ],
   "source": [
    "figure = plot(df50)"
   ]
  }
 ],
 "metadata": {
  "kernelspec": {
   "display_name": "Python 3 (ipykernel)",
   "language": "python",
   "name": "python3"
  },
  "language_info": {
   "codemirror_mode": {
    "name": "ipython",
    "version": 3
   },
   "file_extension": ".py",
   "mimetype": "text/x-python",
   "name": "python",
   "nbconvert_exporter": "python",
   "pygments_lexer": "ipython3",
   "version": "3.7.12"
  }
 },
 "nbformat": 4,
 "nbformat_minor": 5
}
